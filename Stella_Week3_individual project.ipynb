{
 "cells": [
  {
   "cell_type": "code",
   "execution_count": 2,
   "id": "cb31adc4-f7ad-468c-a45b-fa4248e9d204",
   "metadata": {},
   "outputs": [
    {
     "name": "stdout",
     "output_type": "stream",
     "text": [
      "Do you want to encrypt or decrypt? e or d:\n"
     ]
    },
    {
     "name": "stdin",
     "output_type": "stream",
     "text": [
      " e or d:   e\n"
     ]
    },
    {
     "name": "stdout",
     "output_type": "stream",
     "text": [
      "Encryption mode selected!\n"
     ]
    },
    {
     "name": "stdin",
     "output_type": "stream",
     "text": [
      "Enter key value between 1 and 26:  3\n",
      "Enter message to encrypt:  the quick brown fox jumps over the lazy dog  \n"
     ]
    },
    {
     "name": "stdout",
     "output_type": "stream",
     "text": [
      " Encrypted Ciphertext:  wkh txlfn eurzq ira mxpsv ryhu wkh odcb grj   \n"
     ]
    }
   ],
   "source": [
    "#A program to illustrate Ceasar Cipher encryption and decryption\n",
    "\n",
    "#initialize alphabets\n",
    "alphabets = 'abcdefghijklmnopqrstuvwxyz'\n",
    "\n",
    "# the number of letters in the alphabets\n",
    "num_letters = len(alphabets)\n",
    "\n",
    "#define the function encrypt\n",
    "def encrypt(normal_text, key): \n",
    "   \n",
    "    #initialize an empty string to store the result\n",
    "    ciphertext = ' '\n",
    "   \n",
    "    #iterate through each letter in the text\n",
    "    for letter in normal_text:\n",
    "        letter = letter.lower()\n",
    "    \n",
    "        if not letter == '  ':\n",
    "            index = alphabets.find(letter)  # this is used to find the index of the letter in the alphabets\n",
    "            if index == -1:   \n",
    "                ciphertext += letter #(same as append )\n",
    "            else:                            # check if new index is more than the alphabets\n",
    "                new_index = index + key\n",
    "                if new_index >= num_letters:\n",
    "                    new_index -= num_letters  \n",
    "                ciphertext += alphabets[new_index]\n",
    "            \n",
    "                \n",
    "    return ciphertext\n",
    "\n",
    "\n",
    "#create a function to decrypt\n",
    "def decrypt(ciphertext, key):\n",
    "    normal_text = '  '\n",
    "    #iterate through each letter in the text using a for loop\n",
    "    for letter in ciphertext:\n",
    "        letter = letter.lower()\n",
    "        if not letter == '  ':\n",
    "            index = alphabets.find(letter)\n",
    "            if index == -1:\n",
    "                normal_text += letter\n",
    "            else:\n",
    "                new_index = index - key\n",
    "                if new_index < 0:\n",
    "                    new_index += num_letters\n",
    "                normal_text  +=  alphabets[new_index]\n",
    "                #normal_text = normal_text + Normal_text\n",
    "\n",
    "    \n",
    "    return normal_text\n",
    "\n",
    "\n",
    "\n",
    "\n",
    "\n",
    "#ask user what they want to do\n",
    "print(\"Do you want to encrypt or decrypt? e or d:\")\n",
    "\n",
    "# ask user to input option\n",
    "user_input = input(\" e or d:  \").lower()\n",
    "\n",
    "if user_input == 'e':\n",
    "    print(\"Encryption mode selected!\")\n",
    "    \n",
    "    #Ask user to input key\n",
    "    key = int(input(\"Enter key value between 1 and 26: \"))\n",
    "    \n",
    "    #ask user to enter encryption message\n",
    "    text = input(\"Enter message to encrypt: \")\n",
    "    \n",
    "    ciphertext = encrypt(text, key)\n",
    "\n",
    "    #display the result\n",
    "    print(f\" Encrypted Ciphertext: {ciphertext} \")\n",
    "\n",
    "\n",
    "elif user_input == 'd':\n",
    "    print(\"Decryption mode selected!\")\n",
    "    \n",
    "    #ask user to enter shift/key value\n",
    "    key = int(input(\"Enter key value between 1 and 26: \"))\n",
    "    \n",
    "    #ask user to enter message to decrypt\n",
    "    text = input(\"Enter message to decrypt: \")\n",
    "    \n",
    "    normal_text = decrypt(text, key)\n",
    "    #print decryted text\n",
    "    print(f\" normal_text decrypted: {normal_text} \")\n",
    "\n",
    "#user input validation\n",
    "elif(user_input != 'e' or user_input != 'd'):\n",
    "    print(' Invalid Option, Please Enter a valid Option')\n"
   ]
  },
  {
   "cell_type": "code",
   "execution_count": null,
   "id": "179f02b3-3217-420d-8e7f-0448bbb6bca7",
   "metadata": {},
   "outputs": [],
   "source": []
  }
 ],
 "metadata": {
  "kernelspec": {
   "display_name": "Python 3 (ipykernel)",
   "language": "python",
   "name": "python3"
  },
  "language_info": {
   "codemirror_mode": {
    "name": "ipython",
    "version": 3
   },
   "file_extension": ".py",
   "mimetype": "text/x-python",
   "name": "python",
   "nbconvert_exporter": "python",
   "pygments_lexer": "ipython3",
   "version": "3.10.11"
  }
 },
 "nbformat": 4,
 "nbformat_minor": 5
}
